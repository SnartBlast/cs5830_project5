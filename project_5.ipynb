{
 "cells": [
  {
   "cell_type": "code",
   "execution_count": 29,
   "id": "0817d808-3371-438b-87e5-d96d3cdf3213",
   "metadata": {},
   "outputs": [
    {
     "name": "stdout",
     "output_type": "stream",
     "text": [
      "[0.      0.65625] [0.         0.91304348] [0.         0.76363636] [11 23]\n"
     ]
    }
   ],
   "source": [
    "from sklearn.preprocessing import OneHotEncoder\n",
    "from sklearn.model_selection import train_test_split\n",
    "from sklearn.metrics import precision_recall_fscore_support\n",
    "from sklearn import datasets\n",
    "from sklearn.naive_bayes import GaussianNB\n",
    "import pandas as pd\n",
    "\n",
    "\n",
    "# read in pokemon.csv\n",
    "pokemon = pd.read_csv('pokemon.csv')\n",
    "\n",
    "\n",
    "# remove all third evolution pokemon, clean data\n",
    "pokemon.drop(pokemon.loc[pokemon['Order'] == 3].index, inplace=True)\n",
    "pokemon['Order'] = pokemon['Order'] - 1\n",
    "del pokemon['Type_2']\n",
    "\n",
    "\n",
    "# perform one hot encoding for pokemon type\n",
    "enc = OneHotEncoder(handle_unknown='ignore')\n",
    "X = list(zip(pokemon.Type_1))\n",
    "enc.fit(X)\n",
    "feature_vectors = enc.transform(X).toarray()\n",
    "pokemon[['type_01', 'type_02', 'type_03', 'type_04', 'type_05',\n",
    "         'type_06', 'type_07', 'type_08', 'type_09', 'type_10', \n",
    "         'type_11', 'type_12', 'type_13', 'type_14', 'type_15']] = feature_vectors\n",
    "del pokemon['Type_1']\n",
    "\n",
    "\n",
    "# Use Gaussian for datasets with quantitative variables\n",
    "clf = GaussianNB()\n",
    "pokemon = pokemon.dropna()\n",
    "X_train, X_test, y_train, y_test = train_test_split(pokemon[['Health', 'Attack', 'Defense', 'Speed', \n",
    "                                                             'type_01', 'type_02', 'type_03', 'type_04', 'type_05',\n",
    "                                                             'type_06', 'type_07', 'type_08', 'type_09', 'type_10',\n",
    "                                                             'type_11', 'type_12', 'type_13', 'type_14', 'type_15',]]\n",
    "                                                             .values, pokemon.Order, test_size=0.25)\n",
    "clf.fit(X_train, y_train)\n",
    "y_pred = clf.predict(X_test)\n",
    "p,r,f,s = precision_recall_fscore_support(y_test, y_pred, labels=[1,0])\n",
    "print(p, r, f, s)\n"
   ]
  }
 ],
 "metadata": {
  "kernelspec": {
   "display_name": "Python 3 (ipykernel)",
   "language": "python",
   "name": "python3"
  },
  "language_info": {
   "codemirror_mode": {
    "name": "ipython",
    "version": 3
   },
   "file_extension": ".py",
   "mimetype": "text/x-python",
   "name": "python",
   "nbconvert_exporter": "python",
   "pygments_lexer": "ipython3",
   "version": "3.11.2"
  }
 },
 "nbformat": 4,
 "nbformat_minor": 5
}
