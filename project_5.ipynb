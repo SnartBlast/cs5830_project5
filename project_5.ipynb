{
 "cells": [
  {
   "cell_type": "code",
   "execution_count": 8,
   "id": "0817d808-3371-438b-87e5-d96d3cdf3213",
   "metadata": {},
   "outputs": [
    {
     "name": "stdout",
     "output_type": "stream",
     "text": [
      "[0.32258065 0.33333333] [0.83333333 0.04545455] [0.46511628 0.08      ] [12 22]\n",
      "[0.37931034 0.6       ] [0.84615385 0.14285714] [0.52380952 0.23076923] [13 21]\n",
      "[0.38461538 0.61904762] [0.38461538 0.61904762] [0.38461538 0.61904762] [13 21]\n",
      "[0.36666667 0.25      ] [0.78571429 0.05      ] [0.5        0.08333333] [14 20]\n",
      "[0.         0.46153846] [0.  0.6] [0.         0.52173913] [14 20]\n",
      "[0.36666667 0.25      ] [0.78571429 0.05      ] [0.5        0.08333333] [14 20]\n",
      "[0.46875 0.     ] [0.88235294 0.        ] [0.6122449 0.       ] [17 17]\n",
      "[0.44       0.88888889] [0.91666667 0.36363636] [0.59459459 0.51612903] [12 22]\n",
      "[0.46666667 0.52631579] [0.4375     0.55555556] [0.4516129  0.54054054] [16 18]\n",
      "[0.5625 0.5   ] [0.94736842 0.06666667] [0.70588235 0.11764706] [19 15]\n",
      "[0.33333333 0.5       ] [0.83333333 0.09090909] [0.47619048 0.15384615] [12 22]\n",
      "[0.     0.5625] [0.  0.9] [0.         0.69230769] [14 20]\n",
      "[0.3 0.5] [0.81818182 0.08695652] [0.43902439 0.14814815] [11 23]\n",
      "[0.      0.46875] [0.         0.88235294] [0.        0.6122449] [17 17]\n",
      "[0.33333333 0.57142857] [0.14285714 0.8       ] [0.2        0.66666667] [14 20]\n",
      "[0.4 0. ] [0.75 0.  ] [0.52173913 0.        ] [16 18]\n",
      "[0.38461538 0.625     ] [0.76923077 0.23809524] [0.51282051 0.34482759] [13 21]\n",
      "[0.34615385 0.375     ] [0.64285714 0.15      ] [0.45       0.21428571] [14 20]\n",
      "[0.4516129  0.33333333] [0.875      0.05555556] [0.59574468 0.0952381 ] [16 18]\n",
      "[0.5  0.25] [0.83333333 0.0625    ] [0.625 0.1  ] [18 16]\n"
     ]
    },
    {
     "data": {
      "text/plain": [
       "'Best Precision -> 0.5625'"
      ]
     },
     "metadata": {},
     "output_type": "display_data"
    },
    {
     "data": {
      "text/plain": [
       "'Best Recall    -> 0.9473684210526315'"
      ]
     },
     "metadata": {},
     "output_type": "display_data"
    },
    {
     "data": {
      "text/plain": [
       "'Best F1        -> 0.7058823529411765'"
      ]
     },
     "metadata": {},
     "output_type": "display_data"
    }
   ],
   "source": [
    "from sklearn.preprocessing import OneHotEncoder\n",
    "from sklearn.model_selection import train_test_split\n",
    "from sklearn.metrics import precision_recall_fscore_support\n",
    "from sklearn import datasets\n",
    "from sklearn.naive_bayes import GaussianNB\n",
    "import pandas as pd\n",
    "\n",
    "# read in pokemon.csv\n",
    "pokemon = pd.read_csv('pokemon.csv')\n",
    "\n",
    "# remove all third evolution pokemon, clean data\n",
    "pokemon.drop(pokemon.loc[pokemon['Order'] == 3].index, inplace=True)\n",
    "pokemon['Order'] = pokemon['Order'] - 1\n",
    "del pokemon['Type_2']\n",
    "\n",
    "\n",
    "# perform one hot encoding for pokemon type\n",
    "enc = OneHotEncoder(handle_unknown='ignore')\n",
    "X = list(zip(pokemon.Type_1))\n",
    "enc.fit(X)\n",
    "feature_vectors = enc.transform(X).toarray()\n",
    "pokemon[['type_01', 'type_02', 'type_03', 'type_04', 'type_05',\n",
    "         'type_06', 'type_07', 'type_08', 'type_09', 'type_10', \n",
    "         'type_11', 'type_12', 'type_13', 'type_14', 'type_15']] = feature_vectors\n",
    "del pokemon['Type_1']\n",
    "\n",
    "# Use Gaussian for datasets with quantitative variables\n",
    "clf = GaussianNB()\n",
    "pokemon = pokemon.dropna()\n",
    "\n",
    "best_p = 0\n",
    "best_r = 0\n",
    "best_f = 0\n",
    "\n",
    "for i in range(20):\n",
    "    X_train, X_test, y_train, y_test = train_test_split(pokemon[['Health', 'Attack', 'Defense', 'Speed', \n",
    "                                                                 'type_01', 'type_02', 'type_03', 'type_04', 'type_05',\n",
    "                                                                 'type_06', 'type_07', 'type_08', 'type_09', 'type_10',\n",
    "                                                                 'type_11', 'type_12', 'type_13', 'type_14', 'type_15',]]\n",
    "                                                                 .values, pokemon.Order, test_size=0.25)\n",
    "    clf.fit(X_train, y_train)\n",
    "    y_pred = clf.predict(X_test)\n",
    "    p,r,f,s = precision_recall_fscore_support(y_test, y_pred, labels=[1,0])\n",
    "    if (p[0] > best_p and r[0] > best_r):\n",
    "        best_p = p[0]\n",
    "        best_r = r[0]\n",
    "        best_f = f[0]\n",
    "    print(p, r, f, s)\n",
    "\n",
    "\n",
    "display()\n",
    "display(f'Best Precision -> {best_p}')\n",
    "display(f'Best Recall    -> {best_r}')\n",
    "display(f'Best F1        -> {best_f}')\n"
   ]
  },
  {
   "cell_type": "code",
   "execution_count": null,
   "id": "8457f79e-aee0-4114-8d8c-dbcc817e28ba",
   "metadata": {},
   "outputs": [],
   "source": []
  }
 ],
 "metadata": {
  "kernelspec": {
   "display_name": "Python 3 (ipykernel)",
   "language": "python",
   "name": "python3"
  },
  "language_info": {
   "codemirror_mode": {
    "name": "ipython",
    "version": 3
   },
   "file_extension": ".py",
   "mimetype": "text/x-python",
   "name": "python",
   "nbconvert_exporter": "python",
   "pygments_lexer": "ipython3",
   "version": "3.11.2"
  }
 },
 "nbformat": 4,
 "nbformat_minor": 5
}
